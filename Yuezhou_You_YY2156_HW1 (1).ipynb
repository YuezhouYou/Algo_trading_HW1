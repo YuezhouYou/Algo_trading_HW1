{
 "cells": [
  {
   "cell_type": "code",
   "execution_count": 59,
   "metadata": {},
   "outputs": [],
   "source": [
    "import pandas as pd\n",
    "import numpy as np"
   ]
  },
  {
   "cell_type": "code",
   "execution_count": 15,
   "metadata": {},
   "outputs": [],
   "source": [
    "df_raw = pd.read_csv(\"Performance_track_records_Fall2019_out.csv\")"
   ]
  },
  {
   "cell_type": "code",
   "execution_count": 16,
   "metadata": {
    "scrolled": true
   },
   "outputs": [
    {
     "name": "stderr",
     "output_type": "stream",
     "text": [
      "C:\\ProgramData\\Anaconda3\\lib\\site-packages\\ipykernel_launcher.py:7: SettingWithCopyWarning: \n",
      "A value is trying to be set on a copy of a slice from a DataFrame\n",
      "\n",
      "See the caveats in the documentation: http://pandas.pydata.org/pandas-docs/stable/indexing.html#indexing-view-versus-copy\n",
      "  import sys\n"
     ]
    }
   ],
   "source": [
    "def Insert_row(row_number, df, row_value): \n",
    "    # Slice the upper half of the dataframe \n",
    "    df1 = df[0:row_number]  \n",
    "    # Store the result of lower half of the dataframe \n",
    "    df2 = df[row_number:]   \n",
    "    # Inser the row in the upper half dataframe \n",
    "    df1.loc[row_number]=row_value   \n",
    "    # Concat the two dataframes \n",
    "    df_result = pd.concat([df1, df2])   \n",
    "    # Reassign the index labels \n",
    "    df_result.index = [*range(df_result.shape[0])]    \n",
    "    # Return the updated dataframe \n",
    "    return df_result\n",
    "\n",
    "def find_partialmax(df,column_num,start_row,end_row):\n",
    "    return df.iloc[:,column_num].iloc[start_row:end_row].max()\n",
    "\n",
    "# put each strategy into a independent df\n",
    "strategy_names = []\n",
    "df_collection = {}\n",
    "for i in range(24):\n",
    "    new_name = \"strategy_\" + str(i)\n",
    "    strategy_names.append(new_name)\n",
    "    # insert a row in each \n",
    "    df_collection[new_name]  = Insert_row(0,df_raw.iloc[:,[1,2,i+3]].copy(),0)"
   ]
  },
  {
   "cell_type": "code",
   "execution_count": 17,
   "metadata": {},
   "outputs": [],
   "source": [
    "def find_dd(df,dd_column_name):\n",
    "    Insert_row(1,df,100)\n",
    "    df[\"_price\"] = 100\n",
    "    for i in range(len(df.iloc[:,0])-1):\n",
    "        df[\"_price\"].iloc[i+1] = df[\"_price\"].iloc[i] * (1+df.iloc[:,2].iloc[i+1])\n",
    "    \n",
    "    df[dd_column_name] = 0\n",
    "    for i in range(len(df.iloc[:,0])):\n",
    "        df[dd_column_name].iloc[i] = 1-(df[\"_price\"].copy().iloc[i]/find_partialmax(df,3,0,i))\n",
    "    \n",
    "    df.drop(df.index[0],inplace=True) \n",
    "    df.index = [*range(df.shape[0])]\n",
    "    \n",
    "    return df.nlargest(10, ['dd']) "
   ]
  },
  {
   "cell_type": "code",
   "execution_count": 18,
   "metadata": {},
   "outputs": [
    {
     "name": "stderr",
     "output_type": "stream",
     "text": [
      "C:\\ProgramData\\Anaconda3\\lib\\site-packages\\ipykernel_launcher.py:7: SettingWithCopyWarning: \n",
      "A value is trying to be set on a copy of a slice from a DataFrame\n",
      "\n",
      "See the caveats in the documentation: http://pandas.pydata.org/pandas-docs/stable/indexing.html#indexing-view-versus-copy\n",
      "  import sys\n",
      "C:\\ProgramData\\Anaconda3\\lib\\site-packages\\pandas\\core\\indexing.py:194: SettingWithCopyWarning: \n",
      "A value is trying to be set on a copy of a slice from a DataFrame\n",
      "\n",
      "See the caveats in the documentation: http://pandas.pydata.org/pandas-docs/stable/indexing.html#indexing-view-versus-copy\n",
      "  self._setitem_with_indexer(indexer, value)\n"
     ]
    }
   ],
   "source": [
    "dd_result_collection = {}\n",
    "for i in df_collection:\n",
    "    dd_result_collection[i] = find_dd(df_collection[i],\"dd\")"
   ]
  },
  {
   "cell_type": "code",
   "execution_count": 13,
   "metadata": {},
   "outputs": [],
   "source": [
    "#Insert_row(1,df_collection[\"strategy_0\"],100)\n",
    "\n",
    "#df_collection[\"strategy_0\"][\"price\"] = 100\n",
    "#for i in range(len(df_collection[\"strategy_0\"].iloc[:,0])-1):\n",
    "    #df_collection[\"strategy_0\"][\"price\"].iloc[i+1] = df_collection[\"strategy_0\"][\"price\"].iloc[i] * (1+df_collection[\"strategy_0\"].iloc[:,2].iloc[i+1])\n",
    "\n",
    "#df_collection[\"strategy_0\"][\"dd\"] = 0\n",
    "#for i in range(len(df_collection[\"strategy_0\"].iloc[:,0])):\n",
    "               #df_collection[\"strategy_0\"][\"dd\"].iloc[i] = 1-(df_collection[\"strategy_0\"][\"price\"].copy().iloc[i]/find_partialmax(df_collection[\"strategy_0\"],3,0,i)) \n",
    "#df_collection[\"strategy_0\"].drop(df_collection[\"strategy_0\"].index[0],inplace=True) \n",
    "#df_collection[\"strategy_0\"].index = [*range(df_collection[\"strategy_0\"].shape[0])] "
   ]
  },
  {
   "cell_type": "markdown",
   "metadata": {},
   "source": [
    "I. Plot the price trend \n",
    "<br>\n",
    "<br>\n",
    "II.Chart and Graph\n",
    "1. Sharpe ratio: (return - financing rate)/Vol &  information ratio: return / Vol\n",
    "2. Total Ret\n",
    "3. Average Daily Return\n",
    "4. Aunnalized volatility of daily returns\n",
    "5. DrawDown: Cumulative negative Pnl since last high\n",
    "6. Total pref/DD"
   ]
  },
  {
   "cell_type": "code",
   "execution_count": null,
   "metadata": {},
   "outputs": [],
   "source": [
    "Avg Daily Rets"
   ]
  },
  {
   "cell_type": "code",
   "execution_count": 19,
   "metadata": {},
   "outputs": [
    {
     "data": {
      "text/html": [
       "<div>\n",
       "<style scoped>\n",
       "    .dataframe tbody tr th:only-of-type {\n",
       "        vertical-align: middle;\n",
       "    }\n",
       "\n",
       "    .dataframe tbody tr th {\n",
       "        vertical-align: top;\n",
       "    }\n",
       "\n",
       "    .dataframe thead th {\n",
       "        text-align: right;\n",
       "    }\n",
       "</style>\n",
       "<table border=\"1\" class=\"dataframe\">\n",
       "  <thead>\n",
       "    <tr style=\"text-align: right;\">\n",
       "      <th></th>\n",
       "      <th>Price_Close</th>\n",
       "      <th>03_01</th>\n",
       "      <th>03_02</th>\n",
       "      <th>03_03</th>\n",
       "      <th>03_04</th>\n",
       "      <th>03_05</th>\n",
       "      <th>03_06</th>\n",
       "      <th>03_07</th>\n",
       "      <th>03_08</th>\n",
       "      <th>03_09</th>\n",
       "      <th>...</th>\n",
       "      <th>01_03</th>\n",
       "      <th>01_04</th>\n",
       "      <th>01_05</th>\n",
       "      <th>01_06</th>\n",
       "      <th>01_07</th>\n",
       "      <th>01_08</th>\n",
       "      <th>01_09</th>\n",
       "      <th>01_10</th>\n",
       "      <th>01_11</th>\n",
       "      <th>01_12</th>\n",
       "    </tr>\n",
       "  </thead>\n",
       "  <tbody>\n",
       "    <tr>\n",
       "      <th>count</th>\n",
       "      <td>783.000000</td>\n",
       "      <td>783.000000</td>\n",
       "      <td>783.000000</td>\n",
       "      <td>783.000000</td>\n",
       "      <td>783.000000</td>\n",
       "      <td>783.000000</td>\n",
       "      <td>783.000000</td>\n",
       "      <td>783.000000</td>\n",
       "      <td>783.000000</td>\n",
       "      <td>783.000000</td>\n",
       "      <td>...</td>\n",
       "      <td>783.000000</td>\n",
       "      <td>783.000000</td>\n",
       "      <td>783.000000</td>\n",
       "      <td>783.000000</td>\n",
       "      <td>783.000000</td>\n",
       "      <td>783.000000</td>\n",
       "      <td>783.000000</td>\n",
       "      <td>783.000000</td>\n",
       "      <td>783.000000</td>\n",
       "      <td>783.000000</td>\n",
       "    </tr>\n",
       "    <tr>\n",
       "      <th>mean</th>\n",
       "      <td>1222.824662</td>\n",
       "      <td>0.000204</td>\n",
       "      <td>0.000163</td>\n",
       "      <td>0.000196</td>\n",
       "      <td>0.000227</td>\n",
       "      <td>0.000191</td>\n",
       "      <td>0.000213</td>\n",
       "      <td>0.000121</td>\n",
       "      <td>0.000140</td>\n",
       "      <td>0.000133</td>\n",
       "      <td>...</td>\n",
       "      <td>0.000184</td>\n",
       "      <td>0.000198</td>\n",
       "      <td>0.000165</td>\n",
       "      <td>0.000227</td>\n",
       "      <td>0.000159</td>\n",
       "      <td>0.000156</td>\n",
       "      <td>0.000148</td>\n",
       "      <td>0.000165</td>\n",
       "      <td>0.000176</td>\n",
       "      <td>0.000238</td>\n",
       "    </tr>\n",
       "    <tr>\n",
       "      <th>std</th>\n",
       "      <td>88.533641</td>\n",
       "      <td>0.003471</td>\n",
       "      <td>0.003500</td>\n",
       "      <td>0.003722</td>\n",
       "      <td>0.003501</td>\n",
       "      <td>0.003424</td>\n",
       "      <td>0.003392</td>\n",
       "      <td>0.003403</td>\n",
       "      <td>0.003356</td>\n",
       "      <td>0.003304</td>\n",
       "      <td>...</td>\n",
       "      <td>0.004025</td>\n",
       "      <td>0.003870</td>\n",
       "      <td>0.003959</td>\n",
       "      <td>0.003833</td>\n",
       "      <td>0.003940</td>\n",
       "      <td>0.003920</td>\n",
       "      <td>0.003536</td>\n",
       "      <td>0.003848</td>\n",
       "      <td>0.003858</td>\n",
       "      <td>0.003716</td>\n",
       "    </tr>\n",
       "    <tr>\n",
       "      <th>min</th>\n",
       "      <td>0.000000</td>\n",
       "      <td>-0.018595</td>\n",
       "      <td>-0.019087</td>\n",
       "      <td>-0.031994</td>\n",
       "      <td>-0.018089</td>\n",
       "      <td>-0.010474</td>\n",
       "      <td>-0.010500</td>\n",
       "      <td>-0.018775</td>\n",
       "      <td>-0.010306</td>\n",
       "      <td>-0.013769</td>\n",
       "      <td>...</td>\n",
       "      <td>-0.032028</td>\n",
       "      <td>-0.018482</td>\n",
       "      <td>-0.018862</td>\n",
       "      <td>-0.018176</td>\n",
       "      <td>-0.018720</td>\n",
       "      <td>-0.018886</td>\n",
       "      <td>-0.011742</td>\n",
       "      <td>-0.034551</td>\n",
       "      <td>-0.019530</td>\n",
       "      <td>-0.018253</td>\n",
       "    </tr>\n",
       "    <tr>\n",
       "      <th>25%</th>\n",
       "      <td>1172.765000</td>\n",
       "      <td>-0.001395</td>\n",
       "      <td>-0.001542</td>\n",
       "      <td>-0.001560</td>\n",
       "      <td>-0.001505</td>\n",
       "      <td>-0.001403</td>\n",
       "      <td>-0.001359</td>\n",
       "      <td>-0.001363</td>\n",
       "      <td>-0.001345</td>\n",
       "      <td>-0.001775</td>\n",
       "      <td>...</td>\n",
       "      <td>-0.001965</td>\n",
       "      <td>-0.001896</td>\n",
       "      <td>-0.001955</td>\n",
       "      <td>-0.001819</td>\n",
       "      <td>-0.002018</td>\n",
       "      <td>-0.002020</td>\n",
       "      <td>-0.001955</td>\n",
       "      <td>-0.001934</td>\n",
       "      <td>-0.002082</td>\n",
       "      <td>-0.001799</td>\n",
       "    </tr>\n",
       "    <tr>\n",
       "      <th>50%</th>\n",
       "      <td>1227.780000</td>\n",
       "      <td>0.000000</td>\n",
       "      <td>0.000000</td>\n",
       "      <td>0.000000</td>\n",
       "      <td>0.000000</td>\n",
       "      <td>0.000000</td>\n",
       "      <td>0.000000</td>\n",
       "      <td>0.000000</td>\n",
       "      <td>0.000000</td>\n",
       "      <td>0.000000</td>\n",
       "      <td>...</td>\n",
       "      <td>0.000072</td>\n",
       "      <td>0.000067</td>\n",
       "      <td>0.000032</td>\n",
       "      <td>0.000014</td>\n",
       "      <td>0.000000</td>\n",
       "      <td>0.000000</td>\n",
       "      <td>0.000000</td>\n",
       "      <td>0.000073</td>\n",
       "      <td>0.000000</td>\n",
       "      <td>0.000037</td>\n",
       "    </tr>\n",
       "    <tr>\n",
       "      <th>75%</th>\n",
       "      <td>1288.785000</td>\n",
       "      <td>0.001849</td>\n",
       "      <td>0.001791</td>\n",
       "      <td>0.001883</td>\n",
       "      <td>0.001837</td>\n",
       "      <td>0.001725</td>\n",
       "      <td>0.001727</td>\n",
       "      <td>0.001547</td>\n",
       "      <td>0.001534</td>\n",
       "      <td>0.001865</td>\n",
       "      <td>...</td>\n",
       "      <td>0.002295</td>\n",
       "      <td>0.002165</td>\n",
       "      <td>0.002266</td>\n",
       "      <td>0.002255</td>\n",
       "      <td>0.002265</td>\n",
       "      <td>0.002218</td>\n",
       "      <td>0.002197</td>\n",
       "      <td>0.002213</td>\n",
       "      <td>0.002197</td>\n",
       "      <td>0.002180</td>\n",
       "    </tr>\n",
       "    <tr>\n",
       "      <th>max</th>\n",
       "      <td>1383.030000</td>\n",
       "      <td>0.018107</td>\n",
       "      <td>0.018237</td>\n",
       "      <td>0.017624</td>\n",
       "      <td>0.017699</td>\n",
       "      <td>0.018051</td>\n",
       "      <td>0.017594</td>\n",
       "      <td>0.018073</td>\n",
       "      <td>0.018136</td>\n",
       "      <td>0.014706</td>\n",
       "      <td>...</td>\n",
       "      <td>0.018059</td>\n",
       "      <td>0.018320</td>\n",
       "      <td>0.018655</td>\n",
       "      <td>0.017944</td>\n",
       "      <td>0.018555</td>\n",
       "      <td>0.018587</td>\n",
       "      <td>0.014453</td>\n",
       "      <td>0.014628</td>\n",
       "      <td>0.018361</td>\n",
       "      <td>0.018151</td>\n",
       "    </tr>\n",
       "  </tbody>\n",
       "</table>\n",
       "<p>8 rows × 25 columns</p>\n",
       "</div>"
      ],
      "text/plain": [
       "       Price_Close       03_01       03_02       03_03       03_04  \\\n",
       "count   783.000000  783.000000  783.000000  783.000000  783.000000   \n",
       "mean   1222.824662    0.000204    0.000163    0.000196    0.000227   \n",
       "std      88.533641    0.003471    0.003500    0.003722    0.003501   \n",
       "min       0.000000   -0.018595   -0.019087   -0.031994   -0.018089   \n",
       "25%    1172.765000   -0.001395   -0.001542   -0.001560   -0.001505   \n",
       "50%    1227.780000    0.000000    0.000000    0.000000    0.000000   \n",
       "75%    1288.785000    0.001849    0.001791    0.001883    0.001837   \n",
       "max    1383.030000    0.018107    0.018237    0.017624    0.017699   \n",
       "\n",
       "            03_05       03_06       03_07       03_08       03_09     ...      \\\n",
       "count  783.000000  783.000000  783.000000  783.000000  783.000000     ...       \n",
       "mean     0.000191    0.000213    0.000121    0.000140    0.000133     ...       \n",
       "std      0.003424    0.003392    0.003403    0.003356    0.003304     ...       \n",
       "min     -0.010474   -0.010500   -0.018775   -0.010306   -0.013769     ...       \n",
       "25%     -0.001403   -0.001359   -0.001363   -0.001345   -0.001775     ...       \n",
       "50%      0.000000    0.000000    0.000000    0.000000    0.000000     ...       \n",
       "75%      0.001725    0.001727    0.001547    0.001534    0.001865     ...       \n",
       "max      0.018051    0.017594    0.018073    0.018136    0.014706     ...       \n",
       "\n",
       "            01_03       01_04       01_05       01_06       01_07       01_08  \\\n",
       "count  783.000000  783.000000  783.000000  783.000000  783.000000  783.000000   \n",
       "mean     0.000184    0.000198    0.000165    0.000227    0.000159    0.000156   \n",
       "std      0.004025    0.003870    0.003959    0.003833    0.003940    0.003920   \n",
       "min     -0.032028   -0.018482   -0.018862   -0.018176   -0.018720   -0.018886   \n",
       "25%     -0.001965   -0.001896   -0.001955   -0.001819   -0.002018   -0.002020   \n",
       "50%      0.000072    0.000067    0.000032    0.000014    0.000000    0.000000   \n",
       "75%      0.002295    0.002165    0.002266    0.002255    0.002265    0.002218   \n",
       "max      0.018059    0.018320    0.018655    0.017944    0.018555    0.018587   \n",
       "\n",
       "            01_09       01_10       01_11       01_12  \n",
       "count  783.000000  783.000000  783.000000  783.000000  \n",
       "mean     0.000148    0.000165    0.000176    0.000238  \n",
       "std      0.003536    0.003848    0.003858    0.003716  \n",
       "min     -0.011742   -0.034551   -0.019530   -0.018253  \n",
       "25%     -0.001955   -0.001934   -0.002082   -0.001799  \n",
       "50%      0.000000    0.000073    0.000000    0.000037  \n",
       "75%      0.002197    0.002213    0.002197    0.002180  \n",
       "max      0.014453    0.014628    0.018361    0.018151  \n",
       "\n",
       "[8 rows x 25 columns]"
      ]
     },
     "execution_count": 19,
     "metadata": {},
     "output_type": "execute_result"
    }
   ],
   "source": [
    "df_raw.describe()"
   ]
  },
  {
   "cell_type": "markdown",
   "metadata": {},
   "source": [
    "Sharpe ratio & info ratio"
   ]
  },
  {
   "cell_type": "code",
   "execution_count": 27,
   "metadata": {},
   "outputs": [],
   "source": [
    "result = pd.DataFrame(columns = [\"DateTime\",\"Proce_Close\",\"Strategy\",\"Price\",\"dd\"])\n",
    "for i in dd_result_collection:\n",
    "    result = pd.concat([result,dd_result_collection[i]],ignore_index=True)"
   ]
  },
  {
   "cell_type": "code",
   "execution_count": 29,
   "metadata": {},
   "outputs": [],
   "source": [
    "result.to_csv(\"dd_toatal.csv\")"
   ]
  },
  {
   "cell_type": "code",
   "execution_count": 66,
   "metadata": {},
   "outputs": [],
   "source": [
    "info_ratios = []\n",
    "sharpe_ratios = []\n",
    "for i in df_collection:\n",
    "    info_ratios.append(((df_collection[i][\"_price\"].iloc[len(df_collection[i][\"_price\"])-1]-100)/100)/df_collection[i][\"_price\"].values.std(ddof=1))\n",
    "    sharpe_ratios.append(((df_collection[i][\"_price\"].iloc[len(df_collection[i][\"_price\"])-1]-100)/100-0.02*np.sqrt(783/252))/df_collection[i][\"_price\"].values.std(ddof=1))"
   ]
  },
  {
   "cell_type": "code",
   "execution_count": 74,
   "metadata": {},
   "outputs": [
    {
     "data": {
      "text/plain": [
       "[0.03082734484143863,\n",
       " 0.02948287642103877,\n",
       " 0.02441266931776129,\n",
       " 0.03134763099434202,\n",
       " 0.033640598181399625,\n",
       " 0.03156679722600542,\n",
       " 0.030603623799532433,\n",
       " 0.03339574250636623,\n",
       " 0.03648330006713591,\n",
       " 0.03304958055175397,\n",
       " 0.03536129725610913,\n",
       " 0.03323189002697817,\n",
       " 0.032318989934878646,\n",
       " 0.030525541645335885,\n",
       " 0.023840888578162557,\n",
       " 0.028988873713745117,\n",
       " 0.03231390689905099,\n",
       " 0.03060249206516854,\n",
       " 0.02956869624843302,\n",
       " 0.02783957769384922,\n",
       " 0.032948526082592876,\n",
       " 0.0303926223904838,\n",
       " 0.035677096970048276,\n",
       " 0.03313293977259533]"
      ]
     },
     "execution_count": 74,
     "metadata": {},
     "output_type": "execute_result"
    }
   ],
   "source": [
    "info_ratios"
   ]
  },
  {
   "cell_type": "markdown",
   "metadata": {},
   "source": [
    "Total Rets"
   ]
  },
  {
   "cell_type": "code",
   "execution_count": 46,
   "metadata": {},
   "outputs": [],
   "source": [
    "final_prices = []\n",
    "for i in df_collection:\n",
    "    final_prices.append(df_collection[i][\"_price\"].iloc[len(df_collection[i][\"_price\"])-1])"
   ]
  },
  {
   "cell_type": "code",
   "execution_count": 65,
   "metadata": {},
   "outputs": [
    {
     "data": {
      "text/plain": [
       "[0.16785955974805877,\n",
       " 0.13063375773802965,\n",
       " 0.1593448712735661,\n",
       " 0.18917677113603948,\n",
       " 0.15578471738350452,\n",
       " 0.17604187934680615,\n",
       " 0.09453408299755517,\n",
       " 0.11103319439301473,\n",
       " 0.10490921275420662,\n",
       " 0.12273562985918329,\n",
       " 0.17609637169447323,\n",
       " 0.18360117050482905,\n",
       " 0.1237254094850444,\n",
       " 0.11292064749913311,\n",
       " 0.14741708547642518,\n",
       " 0.16076912251064113,\n",
       " 0.13099194347475795,\n",
       " 0.1877272831753225,\n",
       " 0.1259454408430063,\n",
       " 0.12296715260203794,\n",
       " 0.1174915257791822,\n",
       " 0.1310308555256947,\n",
       " 0.14096549356156296,\n",
       " 0.1987063502812254]"
      ]
     },
     "execution_count": 65,
     "metadata": {},
     "output_type": "execute_result"
    }
   ],
   "source": [
    "total_ret = [i/100-1 for i in final_prices]\n",
    "total_ret"
   ]
  },
  {
   "cell_type": "markdown",
   "metadata": {},
   "source": [
    "Annual Std of return"
   ]
  },
  {
   "cell_type": "code",
   "execution_count": 52,
   "metadata": {},
   "outputs": [],
   "source": [
    "df_daily = df_raw.describe()"
   ]
  },
  {
   "cell_type": "code",
   "execution_count": 63,
   "metadata": {},
   "outputs": [
    {
     "data": {
      "text/plain": [
       "Price_Close    1405.427985\n",
       "03_01             0.055101\n",
       "03_02             0.055557\n",
       "03_03             0.059084\n",
       "03_04             0.055572\n",
       "03_05             0.054361\n",
       "03_06             0.053840\n",
       "03_07             0.054016\n",
       "03_08             0.053274\n",
       "03_09             0.052442\n",
       "03_10             0.054910\n",
       "03_11             0.053792\n",
       "03_12             0.053449\n",
       "01_01             0.061679\n",
       "01_02             0.061915\n",
       "01_03             0.063891\n",
       "01_04             0.061429\n",
       "01_05             0.062841\n",
       "01_06             0.060851\n",
       "01_07             0.062553\n",
       "01_08             0.062224\n",
       "01_09             0.056129\n",
       "01_10             0.061088\n",
       "01_11             0.061248\n",
       "01_12             0.058987\n",
       "Name: std, dtype: float64"
      ]
     },
     "execution_count": 63,
     "metadata": {},
     "output_type": "execute_result"
    }
   ],
   "source": [
    "df_daily.iloc[2]*np.sqrt(252)"
   ]
  },
  {
   "cell_type": "markdown",
   "metadata": {},
   "source": [
    "Pref / maxDD"
   ]
  },
  {
   "cell_type": "code",
   "execution_count": 78,
   "metadata": {},
   "outputs": [],
   "source": [
    "max_dd = []\n",
    "pref_over_maxDD = []\n",
    "for i in dd_result_collection:\n",
    "    max_dd.append(dd_result_collection[i][\"dd\"].values.max())\n",
    "for i in range(len(max_dd)):\n",
    "    pref_over_maxDD.append(total_ret[i]/max_dd[i])"
   ]
  },
  {
   "cell_type": "code",
   "execution_count": 79,
   "metadata": {},
   "outputs": [
    {
     "data": {
      "text/plain": [
       "[3.1219060175696085,\n",
       " 1.8956417384687625,\n",
       " 3.340346770320174,\n",
       " 4.424647615334086,\n",
       " 3.4179803565828766,\n",
       " 3.7177220381349967,\n",
       " 1.5322212346411623,\n",
       " 1.9635168477017884,\n",
       " 1.7387526704025413,\n",
       " 2.5982843253778203,\n",
       " 3.9887106252710316,\n",
       " 3.33140918554963,\n",
       " 1.8639150725652032,\n",
       " 1.5818349370629172,\n",
       " 3.2030566832713006,\n",
       " 2.870345036324596,\n",
       " 2.09078535097867,\n",
       " 3.717558795525467,\n",
       " 2.2990697487484777,\n",
       " 2.2911097126277693,\n",
       " 3.2167786644733685,\n",
       " 2.5361881323148516,\n",
       " 2.254330158944482,\n",
       " 3.5300439063083133]"
      ]
     },
     "execution_count": 79,
     "metadata": {},
     "output_type": "execute_result"
    }
   ],
   "source": [
    "pref_over_maxDD"
   ]
  },
  {
   "cell_type": "code",
   "execution_count": null,
   "metadata": {},
   "outputs": [],
   "source": []
  }
 ],
 "metadata": {
  "kernelspec": {
   "display_name": "Python 3",
   "language": "python",
   "name": "python3"
  },
  "language_info": {
   "codemirror_mode": {
    "name": "ipython",
    "version": 3
   },
   "file_extension": ".py",
   "mimetype": "text/x-python",
   "name": "python",
   "nbconvert_exporter": "python",
   "pygments_lexer": "ipython3",
   "version": "3.6.4"
  }
 },
 "nbformat": 4,
 "nbformat_minor": 2
}
